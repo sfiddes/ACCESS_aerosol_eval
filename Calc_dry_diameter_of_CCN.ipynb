{
 "cells": [
  {
   "cell_type": "code",
   "execution_count": 1,
   "id": "af8914a9-f907-4a08-8137-e9c19d0f2615",
   "metadata": {},
   "outputs": [],
   "source": [
    "import numpy as np\n",
    "import sys\n",
    "import os\n",
    "import matplotlib\n",
    "import matplotlib.pyplot as plt\n",
    "import matplotlib.colors as colors\n",
    "import numpy as np\n",
    "import cartopy.crs as ccrs\n",
    "import cartopy.feature as cfeature\n",
    "import pandas as pd\n",
    "import warnings\n",
    "import seaborn as sns\n",
    "warnings.filterwarnings('ignore')\n",
    "matplotlib.rcParams['pdf.fonttype'] = 42\n",
    "from datetime import datetime\n",
    "import scipy.special\n",
    "import xarray as xr\n",
    "import glob as gb\n",
    "from matplotlib.lines import Line2D\n",
    "import dask"
   ]
  },
  {
   "cell_type": "code",
   "execution_count": 2,
   "id": "c20ba00c-6534-410c-afdc-485fa5dbb3e3",
   "metadata": {},
   "outputs": [],
   "source": [
    "def read_model_data(run,voyage): \n",
    "    \n",
    "    fdir = '/g/data/jk72/slf563/ACCESS/output/campaign_data/'\n",
    "    data = xr.open_dataset(fdir+'{}_daily_mean_{}_vars.nc'.format(run,voyage))\n",
    "    if 'z1_hybrid_height' in list(data.coords): \n",
    "        data = data.isel(z1_hybrid_height=0)\n",
    "    return(data)"
   ]
  },
  {
   "cell_type": "code",
   "execution_count": 58,
   "id": "d185163d-3795-49d0-b9a2-eb71957594bb",
   "metadata": {},
   "outputs": [],
   "source": [
    "# From Matt & similar to that used in glomap mode ('easy way')\n",
    "\n",
    "def calc_kohler_easy_way(ss):\n",
    "       rh = 1.0+(ss/100.)\n",
    "       temp = 298.64\n",
    "       # Calculate A factor (p787, S&P1998)\n",
    "       A = 0.66/temp # in microns\n",
    "       lnrh = np.log(rh)\n",
    "       # Calculate B factor (p788, S&P1998) [at critical droplet diameter]\n",
    "       B = (4.0*A**3.)/(27.0*lnrh**2.) # in microns^\n",
    "       # solute mass (g particle-1) [at critical droplet diameter]\n",
    "       ms = B*98.0/(3.0*3.44e13) # in g (3.44e13 all soluble mass per particle # of dissociating ions in mols/m) \n",
    "       # convert to kg particle-1\n",
    "       ms = ms/1000.0 # in kg\n",
    "       # calculate particle dry volume (assume particle density of 1800 kg m-3)\n",
    "       vol = ms/1800. # in m3\n",
    "       act_r = ((3.0*vol)/(4.0*np.pi))**(1.0/3.0) # in m\n",
    "       print('Activation diameter',2*act_r*1e9,'nm')\n",
    "       return(2*act_r*1e9)\n"
   ]
  },
  {
   "cell_type": "code",
   "execution_count": 73,
   "id": "4d488b4e-bf91-4ac2-ab06-0f0092e8979d",
   "metadata": {},
   "outputs": [],
   "source": [
    "# Equation 10 in https://doi.org/10.5194/acp-7-1961-2007\n",
    "\n",
    "def calc_act_d_P_and_K_way(data,ss,all_h2so4=True): \n",
    "    # Constants\n",
    "    sigma = 0.0728  # Surface tension of water (N/m)\n",
    "    Mw = 0.018  # Molar mass of water (kg/mol)\n",
    "    R = 8.314  # Universal gas constant (J/(mol·K))\n",
    "    T = 298.15  # Temperature in Kelvin (15°C)\n",
    "    Pw = 997  # Density of water (kg/m³)\n",
    "    \n",
    "    A = (4*sigma*Mw)/(R*T*Pw) # in meters \n",
    "    Sc = 1+(ss/100) \n",
    "    \n",
    "    lnSc =  np.log(Sc)\n",
    "    \n",
    "    B = (4*(A**3))/(27*(lnSc**2)) # in meters \n",
    "\n",
    "    # Caluclate the volumes... Ei\n",
    "    # Have just added mixing volumes (mol/cm3) of all modes/aero types, not sure if this is right?\n",
    "    VH2SO4 = data['field34102']+data['field34104']+data['field34108']+data['field34114']\n",
    "    VBC = data['field34105']+data['field34109']+data['field34115']\n",
    "    VOM = data['field34106']+data['field34110']+data['field34116']\n",
    "    VSS = data['field34111']+data['field34117']\n",
    "    # Calc sum(Ei)\n",
    "    VTOT = VH2SO4 + VBC + VOM + VSS\n",
    "    \n",
    "    # Calculate kappa according to Petters and Kreidenweis 2007: Sum(Ei x ki)\n",
    "    if all_h2so4 == False: # assume all BC and OM have a H2SO4 coating & that SS is externally mixed \n",
    "        k = VH2SO4/VTOT*0.9 + VOM/VTOT*0.9 + VBC/VTOT*0.9 + VSS/VTOT*1.28\n",
    "        k = k.mean().values\n",
    "        print('Assume SS is externally mixed')\n",
    "    else: # If it is all internally mixed - everything is covered in H2SO4\n",
    "        k = 0.9\n",
    "        print('Assume SS is internally mixed')\n",
    "        \n",
    "    D = (B/k)**(1/3)\n",
    "    print('Activation diameter',(D*1e9),'nm')\n",
    "    return(D)\n",
    "\n"
   ]
  },
  {
   "cell_type": "markdown",
   "id": "170af3a5-da8a-49cf-a85f-4dd1ca6a26cb",
   "metadata": {},
   "source": [
    "# Calc activation diameter"
   ]
  },
  {
   "cell_type": "code",
   "execution_count": 74,
   "id": "67f9bb0b-3414-4015-b6cd-3f1f313e17de",
   "metadata": {},
   "outputs": [],
   "source": [
    "dataKCG = read_model_data('dg657','Kennaook-Cape Grim')\n",
    "dataSyowa = read_model_data('dg657','Syowa')\n",
    "ss=0.5"
   ]
  },
  {
   "cell_type": "code",
   "execution_count": 75,
   "id": "a902fd68-d2ab-4b20-8a7c-6e729caafa5c",
   "metadata": {},
   "outputs": [
    {
     "name": "stdout",
     "output_type": "stream",
     "text": [
      "Assume SS is externally mixed\n",
      "Activation diameter 35.91545009338469 nm\n",
      "Assume SS is externally mixed\n",
      "Activation diameter 35.91681165475812 nm\n"
     ]
    }
   ],
   "source": [
    "D = calc_act_d_P_and_K_way(dataKCG,ss,all_h2so4=False)\n",
    "D = calc_act_d_P_and_K_way(dataSyowa,ss,all_h2so4=False)"
   ]
  },
  {
   "cell_type": "code",
   "execution_count": 76,
   "id": "2c6af471-adb1-4e22-b6a2-503301712223",
   "metadata": {},
   "outputs": [
    {
     "name": "stdout",
     "output_type": "stream",
     "text": [
      "Assume SS is internally mixed\n",
      "Activation diameter 39.81842771119052 nm\n",
      "Assume SS is internally mixed\n",
      "Activation diameter 39.81842771119052 nm\n"
     ]
    }
   ],
   "source": [
    "D = calc_act_d_P_and_K_way(dataKCG,ss,all_h2so4=True)\n",
    "D = calc_act_d_P_and_K_way(dataSyowa,ss,all_h2so4=True)"
   ]
  },
  {
   "cell_type": "code",
   "execution_count": 77,
   "id": "6dd12458-7307-4f0e-af21-b63e087abddb",
   "metadata": {},
   "outputs": [
    {
     "name": "stdout",
     "output_type": "stream",
     "text": [
      "Activation diameter 40.16016012999456 nm\n"
     ]
    }
   ],
   "source": [
    "act_r = calc_kohler_easy_way(ss)"
   ]
  },
  {
   "cell_type": "code",
   "execution_count": null,
   "id": "ef22bbab-c44a-463c-a58e-4c36ca2dc4ed",
   "metadata": {},
   "outputs": [],
   "source": []
  }
 ],
 "metadata": {
  "kernelspec": {
   "display_name": "Python [conda env:analysis3-24.01] *",
   "language": "python",
   "name": "conda-env-analysis3-24.01-py"
  },
  "language_info": {
   "codemirror_mode": {
    "name": "ipython",
    "version": 3
   },
   "file_extension": ".py",
   "mimetype": "text/x-python",
   "name": "python",
   "nbconvert_exporter": "python",
   "pygments_lexer": "ipython3",
   "version": "3.10.13"
  }
 },
 "nbformat": 4,
 "nbformat_minor": 5
}
